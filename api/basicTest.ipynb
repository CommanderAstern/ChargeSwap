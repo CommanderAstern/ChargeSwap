{
 "cells": [
  {
   "cell_type": "code",
   "execution_count": 76,
   "metadata": {},
   "outputs": [],
   "source": [
    "import os\n",
    "from dotenv import load_dotenv\n",
    "from web3 import Web3\n",
    "from web3.middleware import geth_poa_middleware\n",
    "\n",
    "load_dotenv()\n",
    "\n",
    "infura_url = \"https://polygon-mumbai.infura.io/v3/e78c63f8d0004cbe98b088f2a2201701\"\n",
    "# private_key = os.getenv('PRIVATE_KEY')\n",
    "private_key = \"a12e71ebe9a4bc009a99f6b0a99c8f24163ce13d39979100adb2a1a74c7519b7\""
   ]
  },
  {
   "cell_type": "code",
   "execution_count": 66,
   "metadata": {},
   "outputs": [],
   "source": [
    "from_account = '0xB7E99669e9eDdD2975511FBF059d01969f43D409'\n",
    "\n",
    "w3 = Web3(Web3.HTTPProvider(infura_url))\n",
    "nonce = w3.eth.getTransactionCount(from_account)"
   ]
  },
  {
   "cell_type": "code",
   "execution_count": 67,
   "metadata": {},
   "outputs": [],
   "source": [
    "w3.middleware_onion.inject(geth_poa_middleware, layer=0)"
   ]
  },
  {
   "cell_type": "code",
   "execution_count": 68,
   "metadata": {},
   "outputs": [
    {
     "name": "stdout",
     "output_type": "stream",
     "text": [
      "True\n"
     ]
    }
   ],
   "source": [
    "res = w3.isConnected()\n",
    "print(res)"
   ]
  },
  {
   "cell_type": "code",
   "execution_count": 69,
   "metadata": {},
   "outputs": [],
   "source": [
    "# latest_block = w3.eth.get_block('latest')\n",
    "\n",
    "# print(latest_block)"
   ]
  },
  {
   "cell_type": "code",
   "execution_count": 77,
   "metadata": {},
   "outputs": [],
   "source": [
    "abi = [ { \"inputs\": [ { \"internalType\": \"uint256\", \"name\": \"_currentStation\", \"type\": \"uint256\" }, { \"internalType\": \"string\", \"name\": \"_metaAbi\", \"type\": \"string\" }, { \"internalType\": \"string\", \"name\": \"_rfid\", \"type\": \"string\" } ], \"name\": \"addNewBatteryToStation\", \"outputs\": [], \"stateMutability\": \"nonpayable\", \"type\": \"function\" }, { \"inputs\": [ { \"internalType\": \"address\", \"name\": \"_user\", \"type\": \"address\" }, { \"internalType\": \"string\", \"name\": \"_metaAbi\", \"type\": \"string\" }, { \"internalType\": \"string\", \"name\": \"_rfid\", \"type\": \"string\" } ], \"name\": \"addNewBatteryToUser\", \"outputs\": [], \"stateMutability\": \"payable\", \"type\": \"function\" }, { \"inputs\": [ { \"internalType\": \"uint256\", \"name\": \"_stationId\", \"type\": \"uint256\" } ], \"name\": \"swapAllBatteries\", \"outputs\": [], \"stateMutability\": \"payable\", \"type\": \"function\" }, { \"inputs\": [ { \"internalType\": \"uint256\", \"name\": \"_newEthPerCharge\", \"type\": \"uint256\" } ], \"name\": \"updateEthPerCharge\", \"outputs\": [], \"stateMutability\": \"nonpayable\", \"type\": \"function\" }, { \"inputs\": [ { \"internalType\": \"uint256\", \"name\": \"\", \"type\": \"uint256\" } ], \"name\": \"batteries\", \"outputs\": [ { \"internalType\": \"uint256\", \"name\": \"id\", \"type\": \"uint256\" }, { \"internalType\": \"uint256\", \"name\": \"batteryPercentage\", \"type\": \"uint256\" }, { \"internalType\": \"uint256\", \"name\": \"lastBlocktimeQueried\", \"type\": \"uint256\" }, { \"internalType\": \"enum BatterySwap.Status\", \"name\": \"status\", \"type\": \"uint8\" }, { \"internalType\": \"uint256\", \"name\": \"currentStation\", \"type\": \"uint256\" }, { \"internalType\": \"address\", \"name\": \"currentUser\", \"type\": \"address\" }, { \"internalType\": \"string\", \"name\": \"metaAbi\", \"type\": \"string\" } ], \"stateMutability\": \"view\", \"type\": \"function\" }, { \"inputs\": [], \"name\": \"ethPerCharge\", \"outputs\": [ { \"internalType\": \"uint256\", \"name\": \"\", \"type\": \"uint256\" } ], \"stateMutability\": \"view\", \"type\": \"function\" }, { \"inputs\": [ { \"internalType\": \"uint256\", \"name\": \"_stationId\", \"type\": \"uint256\" } ], \"name\": \"getBatteriesByStation\", \"outputs\": [ { \"internalType\": \"uint256[]\", \"name\": \"\", \"type\": \"uint256[]\" } ], \"stateMutability\": \"view\", \"type\": \"function\" }, { \"inputs\": [ { \"internalType\": \"address\", \"name\": \"_user\", \"type\": \"address\" } ], \"name\": \"getBatteriesByUser\", \"outputs\": [ { \"internalType\": \"uint256[]\", \"name\": \"\", \"type\": \"uint256[]\" } ], \"stateMutability\": \"view\", \"type\": \"function\" }, { \"inputs\": [ { \"internalType\": \"uint256\", \"name\": \"_batteryId\", \"type\": \"uint256\" } ], \"name\": \"getBatteryById\", \"outputs\": [ { \"components\": [ { \"internalType\": \"uint256\", \"name\": \"id\", \"type\": \"uint256\" }, { \"internalType\": \"uint256\", \"name\": \"batteryPercentage\", \"type\": \"uint256\" }, { \"internalType\": \"uint256\", \"name\": \"lastBlocktimeQueried\", \"type\": \"uint256\" }, { \"internalType\": \"enum BatterySwap.Status\", \"name\": \"status\", \"type\": \"uint8\" }, { \"internalType\": \"uint256\", \"name\": \"currentStation\", \"type\": \"uint256\" }, { \"internalType\": \"address\", \"name\": \"currentUser\", \"type\": \"address\" }, { \"internalType\": \"string\", \"name\": \"metaAbi\", \"type\": \"string\" } ], \"internalType\": \"struct BatterySwap.Battery\", \"name\": \"\", \"type\": \"tuple\" } ], \"stateMutability\": \"view\", \"type\": \"function\" }, { \"inputs\": [ { \"internalType\": \"uint256\", \"name\": \"_batteryId\", \"type\": \"uint256\" } ], \"name\": \"getBatteryCurrentStation\", \"outputs\": [ { \"internalType\": \"uint256\", \"name\": \"\", \"type\": \"uint256\" } ], \"stateMutability\": \"view\", \"type\": \"function\" }, { \"inputs\": [ { \"internalType\": \"uint256\", \"name\": \"_batteryId\", \"type\": \"uint256\" } ], \"name\": \"getBatteryCurrentUser\", \"outputs\": [ { \"internalType\": \"address\", \"name\": \"\", \"type\": \"address\" } ], \"stateMutability\": \"view\", \"type\": \"function\" }, { \"inputs\": [ { \"internalType\": \"uint256\", \"name\": \"_batteryId\", \"type\": \"uint256\" } ], \"name\": \"getBatteryPercentage\", \"outputs\": [ { \"internalType\": \"uint256\", \"name\": \"\", \"type\": \"uint256\" } ], \"stateMutability\": \"view\", \"type\": \"function\" }, { \"inputs\": [ { \"internalType\": \"uint256\", \"name\": \"_batteryId\", \"type\": \"uint256\" } ], \"name\": \"getBatteryStatus\", \"outputs\": [ { \"internalType\": \"enum BatterySwap.Status\", \"name\": \"\", \"type\": \"uint8\" } ], \"stateMutability\": \"view\", \"type\": \"function\" }, { \"inputs\": [ { \"internalType\": \"string\", \"name\": \"\", \"type\": \"string\" } ], \"name\": \"rfidToBattery\", \"outputs\": [ { \"internalType\": \"uint256\", \"name\": \"\", \"type\": \"uint256\" } ], \"stateMutability\": \"view\", \"type\": \"function\" }, { \"inputs\": [ { \"internalType\": \"address\", \"name\": \"_user\", \"type\": \"address\" } ], \"name\": \"totalCostForUser\", \"outputs\": [ { \"internalType\": \"uint256\", \"name\": \"\", \"type\": \"uint256\" } ], \"stateMutability\": \"view\", \"type\": \"function\" } ]\n",
    "address = \"0xc9301523F9b42EeCDF2fe686221155DaED9a77F5\""
   ]
  },
  {
   "cell_type": "code",
   "execution_count": 78,
   "metadata": {},
   "outputs": [],
   "source": [
    "contract_instance = w3.eth.contract(address=address, abi=abi)"
   ]
  },
  {
   "cell_type": "code",
   "execution_count": 79,
   "metadata": {},
   "outputs": [],
   "source": [
    "res = contract_instance.functions.ethPerCharge().call()"
   ]
  },
  {
   "cell_type": "code",
   "execution_count": 80,
   "metadata": {},
   "outputs": [
    {
     "name": "stdout",
     "output_type": "stream",
     "text": [
      "100000000000000\n"
     ]
    }
   ],
   "source": [
    "print(res)"
   ]
  },
  {
   "cell_type": "code",
   "execution_count": 89,
   "metadata": {},
   "outputs": [],
   "source": [
    "# make a transaction to the contract for function addNewBatteryToStation in mumbai test net\n",
    "# res = contract_instance.functions.addNewBatteryToStation(1,\"QmdT7LTDYfXKQJGaebZeFFwtWsTg89QXVsbzzvaubJce8q\",\"e510b430\").transact()\n",
    "\n",
    "nonce = w3.eth.getTransactionCount(from_account)\n",
    "gas = contract_instance.functions.addNewBatteryToStation(1,\"QmdT7LTDYfXKQJGaebZeFFwtWsTg89QXVsbzzvaubJce8q\",\"e510b430\").estimateGas()\n",
    "\n",
    "# transaction with value 1000000000000000000 wei\n",
    "tx = contract_instance.functions.addNewBatteryToStation(1,\"QmdT7LTDYfXKQJGaebZeFFwtWsTg89QXVsbzzvaubJce8q\",\"e510b430\").buildTransaction({ \n",
    "    'chainId': 80001,\n",
    "    'nonce': nonce,\n",
    "})\n",
    "\n",
    "gas = w3.eth.estimateGas(tx)\n",
    "tx['gas'] = gas\n",
    "    "
   ]
  },
  {
   "cell_type": "code",
   "execution_count": 90,
   "metadata": {},
   "outputs": [
    {
     "name": "stdout",
     "output_type": "stream",
     "text": [
      "0x3d4e764c6c18b0ef60ac62557753063fe18e058ed73e747455afa5e18e19d597\n",
      "AttributeDict({'blockHash': HexBytes('0xa56ebad8b964ff0f1038197fb59cfa5a74e2914003bccdf8327d89ae2ccd1a21'), 'blockNumber': 29463288, 'contractAddress': None, 'cumulativeGasUsed': 2330924, 'effectiveGasPrice': 1500000008, 'from': '0xB7E99669e9eDdD2975511FBF059d01969f43D409', 'gasUsed': 212243, 'logs': [AttributeDict({'address': '0x0000000000000000000000000000000000001010', 'blockHash': HexBytes('0xa56ebad8b964ff0f1038197fb59cfa5a74e2914003bccdf8327d89ae2ccd1a21'), 'blockNumber': 29463288, 'data': '0x0000000000000000000000000000000000000000000000000001218d02ee7d0000000000000000000000000000000000000000000000000005576be6479e26a0000000000000000000000000000000000000000000000041ea8d210ae82159fd00000000000000000000000000000000000000000000000005564a5944afa9a0000000000000000000000000000000000000000000000041ea8e4297eb0fd6fd', 'logIndex': 36, 'removed': False, 'topics': [HexBytes('0x4dfe1bbbcf077ddc3e01291eea2d5c70c2b422b415d95645b9adcfd678cb1d63'), HexBytes('0x0000000000000000000000000000000000000000000000000000000000001010'), HexBytes('0x000000000000000000000000b7e99669e9eddd2975511fbf059d01969f43d409'), HexBytes('0x0000000000000000000000003a22c8bc68e98b0faf40f349dd2b2890fae01484')], 'transactionHash': HexBytes('0x3d4e764c6c18b0ef60ac62557753063fe18e058ed73e747455afa5e18e19d597'), 'transactionIndex': 12})], 'logsBloom': HexBytes('0x00000000000000000008000000000000000000000000000000000000000000000000000000000000000000000000000000008000000000000000000000008000000000000000000000000000000000800000000000000000000100000000000000000000000000000000000000000000000000000000000080000000000000000000000000000000000000000000000000000000000000000000000000000000200000000000000000080000000000000000000000000000000000000000004000000000000000000001000000000100000000000000000000100000880000000000000000000000000000000000000000000000000000000000000000100000'), 'status': 1, 'to': '0xc9301523F9b42EeCDF2fe686221155DaED9a77F5', 'transactionHash': HexBytes('0x3d4e764c6c18b0ef60ac62557753063fe18e058ed73e747455afa5e18e19d597'), 'transactionIndex': 12, 'type': '0x2'})\n"
     ]
    }
   ],
   "source": [
    "signed_tx = w3.eth.account.sign_transaction(tx, private_key=private_key)\n",
    "\n",
    "tx_hash = w3.eth.sendRawTransaction(signed_tx.rawTransaction)\n",
    "\n",
    "print(tx_hash.hex())\n",
    "\n",
    "# get transaction receipt to get contract address\n",
    "\n",
    "tx_receipt = w3.eth.waitForTransactionReceipt(tx_hash)\n",
    "\n",
    "print(tx_receipt)\n"
   ]
  },
  {
   "cell_type": "code",
   "execution_count": 55,
   "metadata": {},
   "outputs": [
    {
     "name": "stdout",
     "output_type": "stream",
     "text": [
      "{'value': 0, 'chainId': 80001, 'gas': 1000000, 'gasPrice': 1000000000, 'nonce': 3, 'to': '0xc9301523F9b42EeCDF2fe686221155DaED9a77F5', 'data': '0xe904311f0000000000000000000000000000000000000000000000000000000000000001000000000000000000000000000000000000000000000000000000000000006000000000000000000000000000000000000000000000000000000000000000c0000000000000000000000000000000000000000000000000000000000000002e516d6454374c54445966584b514a476165625a654646777457735467383951585673627a7a766175624a6365387100000000000000000000000000000000000000000000000000000000000000000000000000000000000000000000000000086535313062343330000000000000000000000000000000000000000000000000'}\n"
     ]
    }
   ],
   "source": [
    "tx"
   ]
  },
  {
   "cell_type": "code",
   "execution_count": null,
   "metadata": {},
   "outputs": [],
   "source": [
    "def addBatteryStation():\n",
    "  currentStation = request.json.get('currentStation')\n",
    "  abi = request.json.get('abi')\n",
    "  rfid = request.json.get('rfid')\n",
    "  # payment = request.json.get('payment')\n",
    "\n",
    "  nonce = w3.eth.getTransactionCount(from_account)\n",
    "  gas = contract_instance.functions.addNewBatteryToStation(\n",
    "    int(currentStation), abi, rfid).estimateGas()\n",
    "\n",
    "  tx = contract_instance.functions.addNewBatteryToStation(\n",
    "    int(currentStation), abi, rfid).buildTransaction({\n",
    "      'chainId': 80001,\n",
    "      'nonce': nonce,\n",
    "    })\n",
    "\n",
    "  gas = w3.eth.estimateGas(tx)\n",
    "  tx['gas'] = gas\n",
    "\n",
    "  signed_tx = w3.eth.account.sign_transaction(tx, private_key=private_key)\n",
    "  tx_hash = w3.eth.sendRawTransaction(signed_tx.rawTransaction)\n",
    "  print(tx_hash.hex())\n",
    "\n",
    "  # get transaction receipt to get contract address\n",
    "\n",
    "  tx_receipt = w3.eth.waitForTransactionReceipt(tx_hash)\n",
    "  # jsonify tx_receipt\n",
    "  \n",
    "\n",
    "\n",
    "  return jsonify(tx_receipt), status.HTTP_201_CREATED"
   ]
  }
 ],
 "metadata": {
  "kernelspec": {
   "display_name": "Python 3.10.8 64-bit",
   "language": "python",
   "name": "python3"
  },
  "language_info": {
   "codemirror_mode": {
    "name": "ipython",
    "version": 3
   },
   "file_extension": ".py",
   "mimetype": "text/x-python",
   "name": "python",
   "nbconvert_exporter": "python",
   "pygments_lexer": "ipython3",
   "version": "3.10.8"
  },
  "orig_nbformat": 4,
  "vscode": {
   "interpreter": {
    "hash": "d2c25a07d7f50215bba9176b103955ce1c55c9d596b83d5f2bba6b4951ef69d9"
   }
  }
 },
 "nbformat": 4,
 "nbformat_minor": 2
}
